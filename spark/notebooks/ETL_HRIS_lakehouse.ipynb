{
 "cells": [
  {
   "cell_type": "code",
   "execution_count": 5,
   "id": "a21724bb-c821-4427-8c8b-6f4e86073332",
   "metadata": {},
   "outputs": [],
   "source": [
    "from pyspark.sql.types import StructType, StructField\n",
    "from pyspark.sql.types import DoubleType, IntegerType,StringType, FloatType\n",
    "import pyspark\n",
    "from pyspark.sql import SparkSession\n",
    "import logging"
   ]
  },
  {
   "cell_type": "code",
   "execution_count": 26,
   "id": "a875d644-1526-4ed0-84d8-6abf13b99d7c",
   "metadata": {},
   "outputs": [
    {
     "name": "stderr",
     "output_type": "stream",
     "text": [
      "25/10/15 16:15:18 WARN Utils: Service 'SparkUI' could not bind on port 4040. Attempting port 4041.\n"
     ]
    }
   ],
   "source": [
    "spark = (\n",
    "    SparkSession.builder.appName(\"Iceberg-Nessie\")\n",
    "    .config(\"spark.sql.extensions\", \"org.apache.iceberg.spark.extensions.IcebergSparkSessionExtensions\")\n",
    "    .config(\"spark.sql.catalog.lakehouse_prod_catalog\", \"org.apache.iceberg.spark.SparkCatalog\")\n",
    "    .config(\"spark.sql.catalog.lakehouse_prod_catalog.type\", \"nessie\")\n",
    "    .config(\"spark.sql.catalog.lakehouse_prod_catalog.uri\", \"http://nessie:19120/api/v2\")\n",
    "    .config(\"spark.sql.catalog.lakehouse_prod_catalog.ref\", \"main\")\n",
    "    .config(\"spark.sql.catalog.lakehouse_prod_catalog.warehouse\", \"s3a://warehouse/\")\n",
    "    .config(\"spark.sql.catalog.lakehouse_prod_catalog.s3.endpoint\", \"http://minio:9000\")\n",
    "    .config(\"spark.sql.catalog.lakehouse_prod_catalog.s3.path-style-access\", \"true\")\n",
    "    .config(\"spark.sql.catalog.lakehouse_prod_catalog.s3.access-key-id\", \"admin\")\n",
    "    .config(\"spark.sql.catalog.lakehouse_prod_catalog.s3.secret-access-key\", \"password\")\n",
    "    .config(\"spark.hadoop.fs.s3a.connection.ssl.enabled\", \"false\")\n",
    "    .getOrCreate()\n",
    ")"
   ]
  },
  {
   "cell_type": "code",
   "execution_count": 27,
   "id": "bd94368e-db30-4abc-850a-4b1fd69bae61",
   "metadata": {},
   "outputs": [
    {
     "data": {
      "text/html": [
       "\n",
       "            <div>\n",
       "                <p><b>SparkSession - in-memory</b></p>\n",
       "                \n",
       "        <div>\n",
       "            <p><b>SparkContext</b></p>\n",
       "\n",
       "            <p><a href=\"http://95ac209e1b97:4041\">Spark UI</a></p>\n",
       "\n",
       "            <dl>\n",
       "              <dt>Version</dt>\n",
       "                <dd><code>v3.5.6</code></dd>\n",
       "              <dt>Master</dt>\n",
       "                <dd><code>local[*]</code></dd>\n",
       "              <dt>AppName</dt>\n",
       "                <dd><code>Iceberg-Nessie</code></dd>\n",
       "            </dl>\n",
       "        </div>\n",
       "        \n",
       "            </div>\n",
       "        "
      ],
      "text/plain": [
       "<pyspark.sql.session.SparkSession at 0x75a3ed9c85f0>"
      ]
     },
     "execution_count": 27,
     "metadata": {},
     "output_type": "execute_result"
    }
   ],
   "source": [
    "spark"
   ]
  },
  {
   "cell_type": "code",
   "execution_count": 28,
   "id": "c0514fff-4058-4309-a984-4b846e1623dd",
   "metadata": {},
   "outputs": [
    {
     "name": "stdout",
     "output_type": "stream",
     "text": [
      "Requirement already satisfied: boto3 in /usr/local/lib/python3.12/site-packages (1.40.52)\n",
      "Requirement already satisfied: botocore<1.41.0,>=1.40.52 in /usr/local/lib/python3.12/site-packages (from boto3) (1.40.52)\n",
      "Requirement already satisfied: jmespath<2.0.0,>=0.7.1 in /usr/local/lib/python3.12/site-packages (from boto3) (1.0.1)\n",
      "Requirement already satisfied: s3transfer<0.15.0,>=0.14.0 in /usr/local/lib/python3.12/site-packages (from boto3) (0.14.0)\n",
      "Requirement already satisfied: python-dateutil<3.0.0,>=2.1 in /usr/local/lib/python3.12/site-packages (from botocore<1.41.0,>=1.40.52->boto3) (2.9.0.post0)\n",
      "Requirement already satisfied: urllib3!=2.2.0,<3,>=1.25.4 in /usr/local/lib/python3.12/site-packages (from botocore<1.41.0,>=1.40.52->boto3) (2.5.0)\n",
      "Requirement already satisfied: six>=1.5 in /usr/local/lib/python3.12/site-packages (from python-dateutil<3.0.0,>=2.1->botocore<1.41.0,>=1.40.52->boto3) (1.17.0)\n",
      "\u001b[33mWARNING: Running pip as the 'root' user can result in broken permissions and conflicting behaviour with the system package manager, possibly rendering your system unusable. It is recommended to use a virtual environment instead: https://pip.pypa.io/warnings/venv. Use the --root-user-action option if you know what you are doing and want to suppress this warning.\u001b[0m\u001b[33m\n",
      "\u001b[0m\n",
      "\u001b[1m[\u001b[0m\u001b[34;49mnotice\u001b[0m\u001b[1;39;49m]\u001b[0m\u001b[39;49m A new release of pip is available: \u001b[0m\u001b[31;49m25.0.1\u001b[0m\u001b[39;49m -> \u001b[0m\u001b[32;49m25.2\u001b[0m\n",
      "\u001b[1m[\u001b[0m\u001b[34;49mnotice\u001b[0m\u001b[1;39;49m]\u001b[0m\u001b[39;49m To update, run: \u001b[0m\u001b[32;49mpip install --upgrade pip\u001b[0m\n"
     ]
    }
   ],
   "source": [
    "!pip install boto3"
   ]
  },
  {
   "cell_type": "code",
   "execution_count": 29,
   "id": "587299bc-d5e0-481c-8201-da72c3382a28",
   "metadata": {},
   "outputs": [],
   "source": [
    "import boto3\n",
    "import pandas as pd\n",
    "from io import StringIO"
   ]
  },
  {
   "cell_type": "code",
   "execution_count": 30,
   "id": "6ae18042-c4af-467c-a99f-36e96e3820b1",
   "metadata": {},
   "outputs": [
    {
     "data": {
      "text/html": [
       "<div>\n",
       "<style scoped>\n",
       "    .dataframe tbody tr th:only-of-type {\n",
       "        vertical-align: middle;\n",
       "    }\n",
       "\n",
       "    .dataframe tbody tr th {\n",
       "        vertical-align: top;\n",
       "    }\n",
       "\n",
       "    .dataframe thead th {\n",
       "        text-align: right;\n",
       "    }\n",
       "</style>\n",
       "<table border=\"1\" class=\"dataframe\">\n",
       "  <thead>\n",
       "    <tr style=\"text-align: right;\">\n",
       "      <th></th>\n",
       "      <th>Unnamed: 0</th>\n",
       "      <th>FirstName</th>\n",
       "      <th>LastName</th>\n",
       "      <th>StartDate</th>\n",
       "      <th>ExitDate</th>\n",
       "      <th>Title</th>\n",
       "      <th>Supervisor</th>\n",
       "      <th>ADEmail</th>\n",
       "      <th>BusinessUnit</th>\n",
       "      <th>EmployeeStatus</th>\n",
       "      <th>...</th>\n",
       "      <th>Satisfaction Score</th>\n",
       "      <th>Work-Life Balance Score</th>\n",
       "      <th>Training Date</th>\n",
       "      <th>Training Program Name</th>\n",
       "      <th>Training Type</th>\n",
       "      <th>Training Outcome</th>\n",
       "      <th>Location</th>\n",
       "      <th>Trainer</th>\n",
       "      <th>Training Duration(Days)</th>\n",
       "      <th>Training Cost</th>\n",
       "    </tr>\n",
       "  </thead>\n",
       "  <tbody>\n",
       "    <tr>\n",
       "      <th>0</th>\n",
       "      <td>0</td>\n",
       "      <td>Uriah</td>\n",
       "      <td>Bridges</td>\n",
       "      <td>20-Sep-19</td>\n",
       "      <td>NaN</td>\n",
       "      <td>Production Technician I</td>\n",
       "      <td>Peter Oneill</td>\n",
       "      <td>uriah.bridges@bilearner.com</td>\n",
       "      <td>CCDR</td>\n",
       "      <td>Active</td>\n",
       "      <td>...</td>\n",
       "      <td>2</td>\n",
       "      <td>3</td>\n",
       "      <td>15-Jul-23</td>\n",
       "      <td>Leadership Development</td>\n",
       "      <td>Internal</td>\n",
       "      <td>Failed</td>\n",
       "      <td>South Marisa</td>\n",
       "      <td>Taylor Rodriguez</td>\n",
       "      <td>2</td>\n",
       "      <td>606.11</td>\n",
       "    </tr>\n",
       "    <tr>\n",
       "      <th>1</th>\n",
       "      <td>1</td>\n",
       "      <td>Paula</td>\n",
       "      <td>Small</td>\n",
       "      <td>11-Feb-23</td>\n",
       "      <td>NaN</td>\n",
       "      <td>Production Technician I</td>\n",
       "      <td>Renee Mccormick</td>\n",
       "      <td>paula.small@bilearner.com</td>\n",
       "      <td>EW</td>\n",
       "      <td>Active</td>\n",
       "      <td>...</td>\n",
       "      <td>1</td>\n",
       "      <td>5</td>\n",
       "      <td>12-Sep-22</td>\n",
       "      <td>Customer Service</td>\n",
       "      <td>External</td>\n",
       "      <td>Incomplete</td>\n",
       "      <td>Tammieville</td>\n",
       "      <td>Kelly Patterson DDS</td>\n",
       "      <td>4</td>\n",
       "      <td>673.02</td>\n",
       "    </tr>\n",
       "    <tr>\n",
       "      <th>2</th>\n",
       "      <td>2</td>\n",
       "      <td>Edward</td>\n",
       "      <td>Buck</td>\n",
       "      <td>10-Dec-18</td>\n",
       "      <td>NaN</td>\n",
       "      <td>Area Sales Manager</td>\n",
       "      <td>Crystal Walker</td>\n",
       "      <td>edward.buck@bilearner.com</td>\n",
       "      <td>PL</td>\n",
       "      <td>Active</td>\n",
       "      <td>...</td>\n",
       "      <td>2</td>\n",
       "      <td>1</td>\n",
       "      <td>13-Aug-22</td>\n",
       "      <td>Leadership Development</td>\n",
       "      <td>External</td>\n",
       "      <td>Failed</td>\n",
       "      <td>East Roberthaven</td>\n",
       "      <td>Taylor Thomas</td>\n",
       "      <td>2</td>\n",
       "      <td>413.28</td>\n",
       "    </tr>\n",
       "    <tr>\n",
       "      <th>3</th>\n",
       "      <td>3</td>\n",
       "      <td>Michael</td>\n",
       "      <td>Riordan</td>\n",
       "      <td>21-Jun-21</td>\n",
       "      <td>NaN</td>\n",
       "      <td>Area Sales Manager</td>\n",
       "      <td>Rebekah Wright</td>\n",
       "      <td>michael.riordan@bilearner.com</td>\n",
       "      <td>CCDR</td>\n",
       "      <td>Active</td>\n",
       "      <td>...</td>\n",
       "      <td>5</td>\n",
       "      <td>4</td>\n",
       "      <td>15-Dec-22</td>\n",
       "      <td>Project Management</td>\n",
       "      <td>External</td>\n",
       "      <td>Completed</td>\n",
       "      <td>Garzatown</td>\n",
       "      <td>Holly Elliott</td>\n",
       "      <td>3</td>\n",
       "      <td>663.78</td>\n",
       "    </tr>\n",
       "    <tr>\n",
       "      <th>4</th>\n",
       "      <td>4</td>\n",
       "      <td>Jasmine</td>\n",
       "      <td>Onque</td>\n",
       "      <td>29-Jun-19</td>\n",
       "      <td>NaN</td>\n",
       "      <td>Area Sales Manager</td>\n",
       "      <td>Jason Kim</td>\n",
       "      <td>jasmine.onque@bilearner.com</td>\n",
       "      <td>TNS</td>\n",
       "      <td>Active</td>\n",
       "      <td>...</td>\n",
       "      <td>5</td>\n",
       "      <td>3</td>\n",
       "      <td>13-Jul-23</td>\n",
       "      <td>Technical Skills</td>\n",
       "      <td>External</td>\n",
       "      <td>Failed</td>\n",
       "      <td>Lake Meganville</td>\n",
       "      <td>Donald Martinez</td>\n",
       "      <td>5</td>\n",
       "      <td>399.03</td>\n",
       "    </tr>\n",
       "  </tbody>\n",
       "</table>\n",
       "<p>5 rows × 39 columns</p>\n",
       "</div>"
      ],
      "text/plain": [
       "   Unnamed: 0 FirstName LastName  StartDate ExitDate                    Title  \\\n",
       "0           0     Uriah  Bridges  20-Sep-19      NaN  Production Technician I   \n",
       "1           1     Paula    Small  11-Feb-23      NaN  Production Technician I   \n",
       "2           2    Edward     Buck  10-Dec-18      NaN       Area Sales Manager   \n",
       "3           3   Michael  Riordan  21-Jun-21      NaN       Area Sales Manager   \n",
       "4           4   Jasmine    Onque  29-Jun-19      NaN       Area Sales Manager   \n",
       "\n",
       "        Supervisor                        ADEmail BusinessUnit EmployeeStatus  \\\n",
       "0     Peter Oneill    uriah.bridges@bilearner.com         CCDR         Active   \n",
       "1  Renee Mccormick      paula.small@bilearner.com           EW         Active   \n",
       "2   Crystal Walker      edward.buck@bilearner.com           PL         Active   \n",
       "3   Rebekah Wright  michael.riordan@bilearner.com         CCDR         Active   \n",
       "4        Jason Kim    jasmine.onque@bilearner.com          TNS         Active   \n",
       "\n",
       "   ... Satisfaction Score Work-Life Balance Score Training Date  \\\n",
       "0  ...                  2                       3     15-Jul-23   \n",
       "1  ...                  1                       5     12-Sep-22   \n",
       "2  ...                  2                       1     13-Aug-22   \n",
       "3  ...                  5                       4     15-Dec-22   \n",
       "4  ...                  5                       3     13-Jul-23   \n",
       "\n",
       "    Training Program Name Training Type Training Outcome          Location  \\\n",
       "0  Leadership Development      Internal           Failed      South Marisa   \n",
       "1        Customer Service      External       Incomplete       Tammieville   \n",
       "2  Leadership Development      External           Failed  East Roberthaven   \n",
       "3      Project Management      External        Completed         Garzatown   \n",
       "4        Technical Skills      External           Failed   Lake Meganville   \n",
       "\n",
       "               Trainer Training Duration(Days) Training Cost  \n",
       "0     Taylor Rodriguez                       2        606.11  \n",
       "1  Kelly Patterson DDS                       4        673.02  \n",
       "2        Taylor Thomas                       2        413.28  \n",
       "3        Holly Elliott                       3        663.78  \n",
       "4      Donald Martinez                       5        399.03  \n",
       "\n",
       "[5 rows x 39 columns]"
      ]
     },
     "execution_count": 30,
     "metadata": {},
     "output_type": "execute_result"
    }
   ],
   "source": [
    "# S3 Credential\n",
    "aws_access_key_id = \"admin\"\n",
    "aws_secret_access_key = \"password\"\n",
    "\n",
    "# Create S3 Client for MinIO\n",
    "s3 = boto3.client(\n",
    "    \"s3\",\n",
    "    aws_access_key_id=aws_access_key_id,\n",
    "    aws_secret_access_key=aws_secret_access_key,\n",
    "    endpoint_url=\"http://minio:9000\",  # MinIO endpoint\n",
    "    use_ssl=False\n",
    ")\n",
    "\n",
    "# Bucket Name\n",
    "bucket_name = \"landing-data\"\n",
    "\n",
    "# List objects in bucket\n",
    "response = s3.list_objects_v2(Bucket=bucket_name)\n",
    "objects_list = response.get(\"Contents\", [])\n",
    "\n",
    "# Loop through objects and read CSV into Pandas DataFrame\n",
    "dfs = []  # list to store DataFrames\n",
    "for obj in objects_list:\n",
    "    obj_name = obj[\"Key\"]\n",
    "    response = s3.get_object(Bucket=bucket_name, Key=obj_name)\n",
    "    object_content = response[\"Body\"].read().decode(\"utf-8\")\n",
    "\n",
    "    # Convert CSV text to Pandas DataFrame\n",
    "    df = pd.read_csv(StringIO(object_content))\n",
    "    dfs.append(df)\n",
    "\n",
    "# Combine all files into a single DataFrame (optional)\n",
    "final_df = pd.concat(dfs, ignore_index=True)\n",
    "\n",
    "final_df.head()"
   ]
  },
  {
   "cell_type": "code",
   "execution_count": 31,
   "id": "293fbc82-08e0-4ad7-a4b9-cba0b303cb73",
   "metadata": {},
   "outputs": [],
   "source": [
    "catalog = 'lakehouse_prod_catalog'\n",
    "schema = 'raw_bronze_zone'\n",
    "table_name = 'bronze_hris_employee'\n",
    "mode = 'overwrite'"
   ]
  },
  {
   "cell_type": "code",
   "execution_count": 32,
   "id": "50742323-9d78-4960-ac61-626f2a0f0825",
   "metadata": {},
   "outputs": [
    {
     "name": "stderr",
     "output_type": "stream",
     "text": [
      "[Stage 0:>                                                          (0 + 1) / 1]"
     ]
    },
    {
     "name": "stdout",
     "output_type": "stream",
     "text": [
      "+----------+-----------+--------+---------+---------+--------------------+-----------------+--------------------+------------+--------------+------------+-------+--------------------------+---------------+----------------------+-----------------+--------------------+----------+-----+----------------------+----------+------------+--------+-----------+-----------------+-----------------------+-----------+-----------+----------------+------------------+-----------------------+-------------+---------------------+-------------+----------------+-----------------+--------------------+-----------------------+-------------+\n",
      "|Unnamed: 0|  FirstName|LastName|StartDate| ExitDate|               Title|       Supervisor|             ADEmail|BusinessUnit|EmployeeStatus|EmployeeType|PayZone|EmployeeClassificationType|TerminationType|TerminationDescription|   DepartmentType|            Division|       DOB|State|JobFunctionDescription|GenderCode|LocationCode|RaceDesc|MaritalDesc|Performance Score|Current Employee Rating|Employee ID|Survey Date|Engagement Score|Satisfaction Score|Work-Life Balance Score|Training Date|Training Program Name|Training Type|Training Outcome|         Location|             Trainer|Training Duration(Days)|Training Cost|\n",
      "+----------+-----------+--------+---------+---------+--------------------+-----------------+--------------------+------------+--------------+------------+-------+--------------------------+---------------+----------------------+-----------------+--------------------+----------+-----+----------------------+----------+------------+--------+-----------+-----------------+-----------------------+-----------+-----------+----------------+------------------+-----------------------+-------------+---------------------+-------------+----------------+-----------------+--------------------+-----------------------+-------------+\n",
      "|         0|      Uriah| Bridges|20-Sep-19|      NaN|Production Techni...|     Peter Oneill|uriah.bridges@bil...|        CCDR|        Active|    Contract| Zone C|                 Temporary|            Unk|                   NaN|Production       |Finance & Accounting|07-10-1969|   MA|            Accounting|    Female|       34904|   White|    Widowed|      Fully Meets|                      4|       3427| 14-01-2023|               1|                 2|                      3|    15-Jul-23| Leadership Develo...|     Internal|          Failed|     South Marisa|    Taylor Rodriguez|                      2|       606.11|\n",
      "|         1|      Paula|   Small|11-Feb-23|      NaN|Production Techni...|  Renee Mccormick|paula.small@bilea...|          EW|        Active|    Contract| Zone A|                 Part-Time|            Unk|                   NaN|Production       |              Aerial|30-08-1965|   MA|                 Labor|      Male|        6593|Hispanic|    Widowed|      Fully Meets|                      3|       3428| 09-09-2022|               2|                 1|                      5|    12-Sep-22|     Customer Service|     External|      Incomplete|      Tammieville| Kelly Patterson DDS|                      4|       673.02|\n",
      "|         2|     Edward|    Buck|10-Dec-18|      NaN|  Area Sales Manager|   Crystal Walker|edward.buck@bilea...|          PL|        Active|   Full-Time| Zone B|                 Part-Time|            Unk|                   NaN|            Sales|       General - Sga|06-10-1991|   MA|             Assistant|      Male|        2330|Hispanic|    Widowed|      Fully Meets|                      4|       3429| 27-05-2023|               1|                 2|                      1|    13-Aug-22| Leadership Develo...|     External|          Failed| East Roberthaven|       Taylor Thomas|                      2|       413.28|\n",
      "|         3|    Michael| Riordan|21-Jun-21|      NaN|  Area Sales Manager|   Rebekah Wright|michael.riordan@b...|        CCDR|        Active|    Contract| Zone A|                 Full-Time|            Unk|                   NaN|            Sales|Finance & Accounting|04-04-1998|   ND|                 Clerk|      Male|       58782|   Other|     Single|      Fully Meets|                      2|       3430| 16-06-2023|               5|                 5|                      4|    15-Dec-22|   Project Management|     External|       Completed|        Garzatown|       Holly Elliott|                      3|       663.78|\n",
      "|         4|    Jasmine|   Onque|29-Jun-19|      NaN|  Area Sales Manager|        Jason Kim|jasmine.onque@bil...|         TNS|        Active|    Contract| Zone A|                 Temporary|            Unk|                   NaN|            Sales|       General - Con|29-08-1969|   FL|               Laborer|    Female|       33174|   Other|    Married|      Fully Meets|                      3|       3431| 25-11-2022|               2|                 5|                      3|    13-Jul-23|     Technical Skills|     External|          Failed|  Lake Meganville|     Donald Martinez|                      5|       399.03|\n",
      "|         5|      Maruk|  Fraval|17-Jan-20|      NaN|  Area Sales Manager|     Sheri Campos|maruk.fraval@bile...|         BPC|        Active|    Contract| Zone B|                 Full-Time|            Unk|                   NaN|            Sales|    Field Operations|03-04-1949|   CT|                Driver|      Male|        6050|   Black|    Married|      Fully Meets|                      3|       3432| 12-12-2022|               2|                 3|                      5|    18-Apr-23|   Project Management|     Internal|          Passed|      Kingchester|         Holly Sloan|                      2|       820.33|\n",
      "|         6|      Latia|   Costa|06-Apr-22|03-Jul-23|  Area Sales Manager|      Jacob Braun|latia.costa@bilea...|         WBL|        Active|   Full-Time| Zone B|                 Temporary|    Involuntary|  Me see picture na...|            Sales|       General - Eng|01-07-1942|   CA|            Technician|    Female|       90007|Hispanic|   Divorced|          Exceeds|                      4|       3433| 25-03-2023|               1|                 5|                      2|    06-Aug-22|     Customer Service|     External|          Passed|       Lancehaven|       David Stewart|                      5|       295.08|\n",
      "|         7|   Sharlene|   Terry|06-Nov-20|29-Jan-23|  Area Sales Manager|    Tracy Marquez|sharlene.terry@bi...|        CCDR|        Active|    Contract| Zone C|                 Full-Time|    Involuntary|  Blue community ty...|            Sales|           Engineers|07-03-1957|   OR|              Engineer|    Female|       97756|   White|   Divorced|      Fully Meets|                      2|       3434| 21-04-2023|               1|                 4|                      2|    07-Oct-22| Leadership Develo...|     Internal|          Passed|      Jeremyshire|     Stephanie Garza|                      3|       790.15|\n",
      "|         8|        Jac|McKinzie|18-Aug-18|      NaN|  Area Sales Manager|    Sharon Becker|jac.mckinzie@bile...|         NEL|        Active|    Contract| Zone B|                 Part-Time|            Unk|                   NaN|            Sales|           Executive|15-05-1974|   TX|   Executive Assistant|      Male|       78789|   Black|    Widowed|          Exceeds|                      3|       3435| 09-12-2022|               4|                 3|                      3|    19-Jul-23|     Customer Service|     Internal|          Passed|     West Randall|          John Brown|                      3|        798.4|\n",
      "|         9|     Joseph| Martins|21-Jan-22|29-Jun-23|  Area Sales Manager|   George Jenkins|joseph.martins@bi...|         BPC|        Active|   Part-Time| Zone B|                 Temporary|    Resignation|  Summer personal bag.|            Sales|           Engineers|11-11-1949|   TX|              Engineer|      Male|       78207|   Asian|    Widowed|      Fully Meets|                      5|       3436| 30-07-2023|               5|                 5|                      2|    09-Apr-23| Leadership Develo...|     Internal|          Failed|       Nicolebury|        Megan Wilson|                      5|       192.61|\n",
      "|        10|     Myriam|  Givens|04-Aug-23|      NaN|  Area Sales Manager|       Troy White|myriam.givens@bil...|         SVG|        Active|    Contract| Zone B|                 Temporary|            Unk|                   NaN|            Sales|    Field Operations|26-01-1964|   IN|            Technician|    Female|       46204|   Other|     Single|      Fully Meets|                      5|       3437| 15-10-2022|               3|                 2|                      5|    20-Oct-22|     Technical Skills|     Internal|          Failed|    Jenniferhaven|  Mrs. Valerie Brown|                      1|       455.68|\n",
      "|        11|     Dheepa|  Nguyen|10-Aug-18|04-Nov-19|  Area Sales Manager|     Brian Miller|dheepa.nguyen@bil...|         MSC|        Active|   Full-Time| Zone C|                 Temporary|     Retirement|  Alone once than. ...|            Sales|       General - Con|06-04-1948|   GA|            Technician|    Female|       30428|   Asian|    Married|      Fully Meets|                      3|       3438| 28-10-2022|               4|                 2|                      5|    05-Oct-22|     Technical Skills|     Internal|          Failed|       Nunezmouth|   Sharon Flores DDS|                      2|       208.17|\n",
      "|        12|Bartholemew|Khemmich|25-May-22|27-Nov-22|  Area Sales Manager|    Charles Parks|bartholemew.khemm...|          EW|        Active|   Full-Time| Zone A|                 Temporary|    Involuntary|  Foot in theory mi...|            Sales|            Splicing|24-11-1981|   CO|               Splicer|      Male|       80820|   Other|     Single|      Fully Meets|                      3|       3439| 30-10-2022|               1|                 2|                      5|    09-Mar-23|     Technical Skills|     External|      Incomplete|Port Margaretview|     Kimberly Garcia|                      1|       421.07|\n",
      "|        13|       Xana|   Potts|05-Dec-19|17-Feb-23|  Area Sales Manager|   Gregory Walker|xana.potts@bilear...|        CCDR|        Active|    Contract| Zone A|                 Full-Time|    Resignation|  Degree wish scien...|            Sales|Finance & Accounting|06-11-1951|   KY|            Controller|    Female|       40220|   White|   Divorced|      Fully Meets|                      3|       3440| 24-09-2022|               1|                 4|                      5|    29-May-23| Communication Skills|     External|          Failed|        Nancyview|Christopher Under...|                      1|       649.03|\n",
      "|        14|     Prater|  Jeremy|28-Apr-19|      NaN|  Area Sales Manager|      Tyler Lewis|prater.jeremy@bil...|         BPC|        Active|   Part-Time| Zone A|                 Part-Time|            Unk|                   NaN|            Sales|       General - Con|21-11-1989|   NV|               Lineman|      Male|       89139|   Asian|    Widowed|          Exceeds|                      4|       3441| 30-10-2022|               4|                 2|                      5|    08-Jan-23|   Project Management|     Internal|          Passed|      Carrollside|         Robert Kane|                      4|        450.2|\n",
      "|        15|     Kaylah|    Moon|09-Jul-19|16-Jun-22|  Area Sales Manager|     Ashley Scott|kaylah.moon@bilea...|         PYZ|        Active|   Full-Time| Zone A|                 Full-Time|     Retirement|  Fear particular m...|            IT/IS|    Field Operations|24-11-1952|   MA|               Laborer|      Male|        2810|   Black|     Single|          Exceeds|                      2|       3442| 31-10-2022|               2|                 5|                      3|    06-Mar-23|   Project Management|     External|          Failed|  Port Davidshire|      Victoria Berry|                      4|       286.87|\n",
      "|        16|    Kristen|    Tate|05-Apr-21|12-May-23|  Area Sales Manager|     Lauren Jones|kristen.tate@bile...|         WBL|        Active|   Full-Time| Zone C|                 Part-Time|      Voluntary|  Wall body wonder ...|            IT/IS|Project Managemen...|08-04-1994|   KY|           Coordinator|      Male|        2621|   Asian|    Widowed|      Fully Meets|                      3|       3443| 29-04-2023|               2|                 2|                      4|    18-Feb-23|     Technical Skills|     External|          Failed|       East Katie|       Gary Thornton|                      3|       402.13|\n",
      "|        17|      Bobby| Rodgers|28-Nov-21|04-Feb-22|  Area Sales Manager|  Matthew Jackson|bobby.rodgers@bil...|         NEL|        Active|    Contract| Zone A|                 Part-Time|      Voluntary|  Visit foot nearly...|            Sales|           Engineers|15-11-1983|   KY|              Director|      Male|       44553|   Other|    Widowed|      Fully Meets|                      3|       3444| 14-12-2022|               1|                 2|                      4|    02-Nov-22|     Technical Skills|     External|          Failed|       Jacobburgh|      William Willis|                      2|       388.84|\n",
      "|        18|       Reid|    Park|16-Jan-21|      NaN|  Area Sales Manager|Michelle Mitchell|reid.park@bilearn...|          PL|        Active|    Contract| Zone C|                 Full-Time|            Unk|                   NaN|            Sales|Project Managemen...|07-12-1985|   KY|            Supervisor|    Female|        5360|   Other|    Married|          Exceeds|                      4|       3445| 07-05-2023|               4|                 5|                      2|    14-Jul-23|   Project Management|     External|       Completed|        Ryanmouth|            Andre Wu|                      2|       879.64|\n",
      "|        19|     Hector|  Dalton|24-Aug-21|      NaN|  Area Sales Manager|    Sydney French|hector.dalton@bil...|         BPC|        Active|   Part-Time| Zone A|                 Part-Time|            Unk|                   NaN|            Sales|    Field Operations|01-05-1996|   TX|               Driller|    Female|       16325|   White|   Divorced|          Exceeds|                      2|       3446| 21-05-2023|               4|                 3|                      5|    11-Dec-22|     Technical Skills|     Internal|          Failed|       South John|      Olivia Holland|                      5|       701.13|\n",
      "+----------+-----------+--------+---------+---------+--------------------+-----------------+--------------------+------------+--------------+------------+-------+--------------------------+---------------+----------------------+-----------------+--------------------+----------+-----+----------------------+----------+------------+--------+-----------+-----------------+-----------------------+-----------+-----------+----------------+------------------+-----------------------+-------------+---------------------+-------------+----------------+-----------------+--------------------+-----------------------+-------------+\n",
      "only showing top 20 rows\n",
      "\n"
     ]
    },
    {
     "name": "stderr",
     "output_type": "stream",
     "text": [
      "                                                                                "
     ]
    }
   ],
   "source": [
    "df_spark = spark.createDataFrame(final_df)\n",
    "df_spark.show()"
   ]
  },
  {
   "cell_type": "code",
   "execution_count": 33,
   "id": "c6fde417-6d1c-4356-9780-d70f5e3d7725",
   "metadata": {},
   "outputs": [
    {
     "data": {
      "text/plain": [
       "DataFrame[]"
      ]
     },
     "execution_count": 33,
     "metadata": {},
     "output_type": "execute_result"
    }
   ],
   "source": [
    "spark.sql(f\"CREATE NAMESPACE IF NOT EXISTS {catalog}.{schema};\")"
   ]
  },
  {
   "cell_type": "code",
   "execution_count": 34,
   "id": "d9525332-5f9b-448f-809d-3db976b4a334",
   "metadata": {},
   "outputs": [
    {
     "name": "stderr",
     "output_type": "stream",
     "text": [
      "                                                                                "
     ]
    },
    {
     "name": "stdout",
     "output_type": "stream",
     "text": [
      "Successfully load data into lakehouse_prod_catalog.raw_bronze_zone.bronze_hris_employee\n"
     ]
    }
   ],
   "source": [
    "try:\n",
    "    df_spark.write.mode(mode).format(\"parquet\").saveAsTable(f\"{catalog}.{schema}.{table_name}\")\n",
    "    print(f\"Successfully load data into {catalog}.{schema}.{table_name}\")\n",
    "except Exception as e:\n",
    "    print(f\"Failed to load data into {catalog}.{schema}.{table_name}: {e}\")\n",
    "    raise"
   ]
  },
  {
   "cell_type": "code",
   "execution_count": 36,
   "id": "501c6472-dea4-4f40-a04b-85b7abeb4ec3",
   "metadata": {},
   "outputs": [
    {
     "name": "stdout",
     "output_type": "stream",
     "text": [
      "+----------+-----------+--------+---------+---------+--------------------+-----------------+--------------------+------------+--------------+------------+-------+--------------------------+---------------+----------------------+-----------------+--------------------+----------+-----+----------------------+----------+------------+--------+-----------+-----------------+-----------------------+-----------+-----------+----------------+------------------+-----------------------+-------------+---------------------+-------------+----------------+-----------------+--------------------+-----------------------+-------------+\n",
      "|Unnamed: 0|  FirstName|LastName|StartDate| ExitDate|               Title|       Supervisor|             ADEmail|BusinessUnit|EmployeeStatus|EmployeeType|PayZone|EmployeeClassificationType|TerminationType|TerminationDescription|   DepartmentType|            Division|       DOB|State|JobFunctionDescription|GenderCode|LocationCode|RaceDesc|MaritalDesc|Performance Score|Current Employee Rating|Employee ID|Survey Date|Engagement Score|Satisfaction Score|Work-Life Balance Score|Training Date|Training Program Name|Training Type|Training Outcome|         Location|             Trainer|Training Duration(Days)|Training Cost|\n",
      "+----------+-----------+--------+---------+---------+--------------------+-----------------+--------------------+------------+--------------+------------+-------+--------------------------+---------------+----------------------+-----------------+--------------------+----------+-----+----------------------+----------+------------+--------+-----------+-----------------+-----------------------+-----------+-----------+----------------+------------------+-----------------------+-------------+---------------------+-------------+----------------+-----------------+--------------------+-----------------------+-------------+\n",
      "|         0|      Uriah| Bridges|20-Sep-19|      NaN|Production Techni...|     Peter Oneill|uriah.bridges@bil...|        CCDR|        Active|    Contract| Zone C|                 Temporary|            Unk|                   NaN|Production       |Finance & Accounting|07-10-1969|   MA|            Accounting|    Female|       34904|   White|    Widowed|      Fully Meets|                      4|       3427| 14-01-2023|               1|                 2|                      3|    15-Jul-23| Leadership Develo...|     Internal|          Failed|     South Marisa|    Taylor Rodriguez|                      2|       606.11|\n",
      "|         1|      Paula|   Small|11-Feb-23|      NaN|Production Techni...|  Renee Mccormick|paula.small@bilea...|          EW|        Active|    Contract| Zone A|                 Part-Time|            Unk|                   NaN|Production       |              Aerial|30-08-1965|   MA|                 Labor|      Male|        6593|Hispanic|    Widowed|      Fully Meets|                      3|       3428| 09-09-2022|               2|                 1|                      5|    12-Sep-22|     Customer Service|     External|      Incomplete|      Tammieville| Kelly Patterson DDS|                      4|       673.02|\n",
      "|         2|     Edward|    Buck|10-Dec-18|      NaN|  Area Sales Manager|   Crystal Walker|edward.buck@bilea...|          PL|        Active|   Full-Time| Zone B|                 Part-Time|            Unk|                   NaN|            Sales|       General - Sga|06-10-1991|   MA|             Assistant|      Male|        2330|Hispanic|    Widowed|      Fully Meets|                      4|       3429| 27-05-2023|               1|                 2|                      1|    13-Aug-22| Leadership Develo...|     External|          Failed| East Roberthaven|       Taylor Thomas|                      2|       413.28|\n",
      "|         3|    Michael| Riordan|21-Jun-21|      NaN|  Area Sales Manager|   Rebekah Wright|michael.riordan@b...|        CCDR|        Active|    Contract| Zone A|                 Full-Time|            Unk|                   NaN|            Sales|Finance & Accounting|04-04-1998|   ND|                 Clerk|      Male|       58782|   Other|     Single|      Fully Meets|                      2|       3430| 16-06-2023|               5|                 5|                      4|    15-Dec-22|   Project Management|     External|       Completed|        Garzatown|       Holly Elliott|                      3|       663.78|\n",
      "|         4|    Jasmine|   Onque|29-Jun-19|      NaN|  Area Sales Manager|        Jason Kim|jasmine.onque@bil...|         TNS|        Active|    Contract| Zone A|                 Temporary|            Unk|                   NaN|            Sales|       General - Con|29-08-1969|   FL|               Laborer|    Female|       33174|   Other|    Married|      Fully Meets|                      3|       3431| 25-11-2022|               2|                 5|                      3|    13-Jul-23|     Technical Skills|     External|          Failed|  Lake Meganville|     Donald Martinez|                      5|       399.03|\n",
      "|         5|      Maruk|  Fraval|17-Jan-20|      NaN|  Area Sales Manager|     Sheri Campos|maruk.fraval@bile...|         BPC|        Active|    Contract| Zone B|                 Full-Time|            Unk|                   NaN|            Sales|    Field Operations|03-04-1949|   CT|                Driver|      Male|        6050|   Black|    Married|      Fully Meets|                      3|       3432| 12-12-2022|               2|                 3|                      5|    18-Apr-23|   Project Management|     Internal|          Passed|      Kingchester|         Holly Sloan|                      2|       820.33|\n",
      "|         6|      Latia|   Costa|06-Apr-22|03-Jul-23|  Area Sales Manager|      Jacob Braun|latia.costa@bilea...|         WBL|        Active|   Full-Time| Zone B|                 Temporary|    Involuntary|  Me see picture na...|            Sales|       General - Eng|01-07-1942|   CA|            Technician|    Female|       90007|Hispanic|   Divorced|          Exceeds|                      4|       3433| 25-03-2023|               1|                 5|                      2|    06-Aug-22|     Customer Service|     External|          Passed|       Lancehaven|       David Stewart|                      5|       295.08|\n",
      "|         7|   Sharlene|   Terry|06-Nov-20|29-Jan-23|  Area Sales Manager|    Tracy Marquez|sharlene.terry@bi...|        CCDR|        Active|    Contract| Zone C|                 Full-Time|    Involuntary|  Blue community ty...|            Sales|           Engineers|07-03-1957|   OR|              Engineer|    Female|       97756|   White|   Divorced|      Fully Meets|                      2|       3434| 21-04-2023|               1|                 4|                      2|    07-Oct-22| Leadership Develo...|     Internal|          Passed|      Jeremyshire|     Stephanie Garza|                      3|       790.15|\n",
      "|         8|        Jac|McKinzie|18-Aug-18|      NaN|  Area Sales Manager|    Sharon Becker|jac.mckinzie@bile...|         NEL|        Active|    Contract| Zone B|                 Part-Time|            Unk|                   NaN|            Sales|           Executive|15-05-1974|   TX|   Executive Assistant|      Male|       78789|   Black|    Widowed|          Exceeds|                      3|       3435| 09-12-2022|               4|                 3|                      3|    19-Jul-23|     Customer Service|     Internal|          Passed|     West Randall|          John Brown|                      3|        798.4|\n",
      "|         9|     Joseph| Martins|21-Jan-22|29-Jun-23|  Area Sales Manager|   George Jenkins|joseph.martins@bi...|         BPC|        Active|   Part-Time| Zone B|                 Temporary|    Resignation|  Summer personal bag.|            Sales|           Engineers|11-11-1949|   TX|              Engineer|      Male|       78207|   Asian|    Widowed|      Fully Meets|                      5|       3436| 30-07-2023|               5|                 5|                      2|    09-Apr-23| Leadership Develo...|     Internal|          Failed|       Nicolebury|        Megan Wilson|                      5|       192.61|\n",
      "|        10|     Myriam|  Givens|04-Aug-23|      NaN|  Area Sales Manager|       Troy White|myriam.givens@bil...|         SVG|        Active|    Contract| Zone B|                 Temporary|            Unk|                   NaN|            Sales|    Field Operations|26-01-1964|   IN|            Technician|    Female|       46204|   Other|     Single|      Fully Meets|                      5|       3437| 15-10-2022|               3|                 2|                      5|    20-Oct-22|     Technical Skills|     Internal|          Failed|    Jenniferhaven|  Mrs. Valerie Brown|                      1|       455.68|\n",
      "|        11|     Dheepa|  Nguyen|10-Aug-18|04-Nov-19|  Area Sales Manager|     Brian Miller|dheepa.nguyen@bil...|         MSC|        Active|   Full-Time| Zone C|                 Temporary|     Retirement|  Alone once than. ...|            Sales|       General - Con|06-04-1948|   GA|            Technician|    Female|       30428|   Asian|    Married|      Fully Meets|                      3|       3438| 28-10-2022|               4|                 2|                      5|    05-Oct-22|     Technical Skills|     Internal|          Failed|       Nunezmouth|   Sharon Flores DDS|                      2|       208.17|\n",
      "|        12|Bartholemew|Khemmich|25-May-22|27-Nov-22|  Area Sales Manager|    Charles Parks|bartholemew.khemm...|          EW|        Active|   Full-Time| Zone A|                 Temporary|    Involuntary|  Foot in theory mi...|            Sales|            Splicing|24-11-1981|   CO|               Splicer|      Male|       80820|   Other|     Single|      Fully Meets|                      3|       3439| 30-10-2022|               1|                 2|                      5|    09-Mar-23|     Technical Skills|     External|      Incomplete|Port Margaretview|     Kimberly Garcia|                      1|       421.07|\n",
      "|        13|       Xana|   Potts|05-Dec-19|17-Feb-23|  Area Sales Manager|   Gregory Walker|xana.potts@bilear...|        CCDR|        Active|    Contract| Zone A|                 Full-Time|    Resignation|  Degree wish scien...|            Sales|Finance & Accounting|06-11-1951|   KY|            Controller|    Female|       40220|   White|   Divorced|      Fully Meets|                      3|       3440| 24-09-2022|               1|                 4|                      5|    29-May-23| Communication Skills|     External|          Failed|        Nancyview|Christopher Under...|                      1|       649.03|\n",
      "|        14|     Prater|  Jeremy|28-Apr-19|      NaN|  Area Sales Manager|      Tyler Lewis|prater.jeremy@bil...|         BPC|        Active|   Part-Time| Zone A|                 Part-Time|            Unk|                   NaN|            Sales|       General - Con|21-11-1989|   NV|               Lineman|      Male|       89139|   Asian|    Widowed|          Exceeds|                      4|       3441| 30-10-2022|               4|                 2|                      5|    08-Jan-23|   Project Management|     Internal|          Passed|      Carrollside|         Robert Kane|                      4|        450.2|\n",
      "|        15|     Kaylah|    Moon|09-Jul-19|16-Jun-22|  Area Sales Manager|     Ashley Scott|kaylah.moon@bilea...|         PYZ|        Active|   Full-Time| Zone A|                 Full-Time|     Retirement|  Fear particular m...|            IT/IS|    Field Operations|24-11-1952|   MA|               Laborer|      Male|        2810|   Black|     Single|          Exceeds|                      2|       3442| 31-10-2022|               2|                 5|                      3|    06-Mar-23|   Project Management|     External|          Failed|  Port Davidshire|      Victoria Berry|                      4|       286.87|\n",
      "|        16|    Kristen|    Tate|05-Apr-21|12-May-23|  Area Sales Manager|     Lauren Jones|kristen.tate@bile...|         WBL|        Active|   Full-Time| Zone C|                 Part-Time|      Voluntary|  Wall body wonder ...|            IT/IS|Project Managemen...|08-04-1994|   KY|           Coordinator|      Male|        2621|   Asian|    Widowed|      Fully Meets|                      3|       3443| 29-04-2023|               2|                 2|                      4|    18-Feb-23|     Technical Skills|     External|          Failed|       East Katie|       Gary Thornton|                      3|       402.13|\n",
      "|        17|      Bobby| Rodgers|28-Nov-21|04-Feb-22|  Area Sales Manager|  Matthew Jackson|bobby.rodgers@bil...|         NEL|        Active|    Contract| Zone A|                 Part-Time|      Voluntary|  Visit foot nearly...|            Sales|           Engineers|15-11-1983|   KY|              Director|      Male|       44553|   Other|    Widowed|      Fully Meets|                      3|       3444| 14-12-2022|               1|                 2|                      4|    02-Nov-22|     Technical Skills|     External|          Failed|       Jacobburgh|      William Willis|                      2|       388.84|\n",
      "|        18|       Reid|    Park|16-Jan-21|      NaN|  Area Sales Manager|Michelle Mitchell|reid.park@bilearn...|          PL|        Active|    Contract| Zone C|                 Full-Time|            Unk|                   NaN|            Sales|Project Managemen...|07-12-1985|   KY|            Supervisor|    Female|        5360|   Other|    Married|          Exceeds|                      4|       3445| 07-05-2023|               4|                 5|                      2|    14-Jul-23|   Project Management|     External|       Completed|        Ryanmouth|            Andre Wu|                      2|       879.64|\n",
      "|        19|     Hector|  Dalton|24-Aug-21|      NaN|  Area Sales Manager|    Sydney French|hector.dalton@bil...|         BPC|        Active|   Part-Time| Zone A|                 Part-Time|            Unk|                   NaN|            Sales|    Field Operations|01-05-1996|   TX|               Driller|    Female|       16325|   White|   Divorced|          Exceeds|                      2|       3446| 21-05-2023|               4|                 3|                      5|    11-Dec-22|     Technical Skills|     Internal|          Failed|       South John|      Olivia Holland|                      5|       701.13|\n",
      "+----------+-----------+--------+---------+---------+--------------------+-----------------+--------------------+------------+--------------+------------+-------+--------------------------+---------------+----------------------+-----------------+--------------------+----------+-----+----------------------+----------+------------+--------+-----------+-----------------+-----------------------+-----------+-----------+----------------+------------------+-----------------------+-------------+---------------------+-------------+----------------+-----------------+--------------------+-----------------------+-------------+\n",
      "only showing top 20 rows\n",
      "\n"
     ]
    },
    {
     "name": "stderr",
     "output_type": "stream",
     "text": [
      "25/10/15 16:26:02 WARN NettyRpcEnv: Ignored failure: java.util.concurrent.TimeoutException: Cannot receive any reply from 95ac209e1b97:33799 in 10000 milliseconds\n",
      "25/10/15 16:29:05 WARN Executor: Issue communicating with driver in heartbeater\n",
      "org.apache.spark.rpc.RpcTimeoutException: Futures timed out after [10000 milliseconds]. This timeout is controlled by spark.executor.heartbeatInterval\n",
      "\tat org.apache.spark.rpc.RpcTimeout.org$apache$spark$rpc$RpcTimeout$$createRpcTimeoutException(RpcTimeout.scala:47)\n",
      "\tat org.apache.spark.rpc.RpcTimeout$$anonfun$addMessageIfTimeout$1.applyOrElse(RpcTimeout.scala:62)\n",
      "\tat org.apache.spark.rpc.RpcTimeout$$anonfun$addMessageIfTimeout$1.applyOrElse(RpcTimeout.scala:58)\n",
      "\tat scala.runtime.AbstractPartialFunction.apply(AbstractPartialFunction.scala:38)\n",
      "\tat org.apache.spark.rpc.RpcTimeout.awaitResult(RpcTimeout.scala:76)\n",
      "\tat org.apache.spark.rpc.RpcEndpointRef.askSync(RpcEndpointRef.scala:101)\n",
      "\tat org.apache.spark.executor.Executor.reportHeartBeat(Executor.scala:1236)\n",
      "\tat org.apache.spark.executor.Executor.$anonfun$heartbeater$1(Executor.scala:296)\n",
      "\tat scala.runtime.java8.JFunction0$mcV$sp.apply(JFunction0$mcV$sp.java:23)\n",
      "\tat org.apache.spark.util.Utils$.logUncaughtExceptions(Utils.scala:1928)\n",
      "\tat org.apache.spark.Heartbeater$$anon$1.run(Heartbeater.scala:46)\n",
      "\tat java.base/java.util.concurrent.Executors$RunnableAdapter.call(Executors.java:539)\n",
      "\tat java.base/java.util.concurrent.FutureTask.runAndReset(FutureTask.java:305)\n",
      "\tat java.base/java.util.concurrent.ScheduledThreadPoolExecutor$ScheduledFutureTask.run(ScheduledThreadPoolExecutor.java:305)\n",
      "\tat java.base/java.util.concurrent.ThreadPoolExecutor.runWorker(ThreadPoolExecutor.java:1136)\n",
      "\tat java.base/java.util.concurrent.ThreadPoolExecutor$Worker.run(ThreadPoolExecutor.java:635)\n",
      "\tat java.base/java.lang.Thread.run(Thread.java:840)\n",
      "Caused by: java.util.concurrent.TimeoutException: Futures timed out after [10000 milliseconds]\n",
      "\tat scala.concurrent.impl.Promise$DefaultPromise.ready(Promise.scala:259)\n",
      "\tat scala.concurrent.impl.Promise$DefaultPromise.result(Promise.scala:263)\n",
      "\tat org.apache.spark.util.SparkThreadUtils$.awaitResult(SparkThreadUtils.scala:48)\n",
      "\tat org.apache.spark.util.ThreadUtils$.awaitResult(ThreadUtils.scala:310)\n",
      "\tat org.apache.spark.rpc.RpcTimeout.awaitResult(RpcTimeout.scala:75)\n",
      "\t... 12 more\n",
      "25/10/15 16:29:06 WARN NettyRpcEnv: Ignored message: HeartbeatResponse(false)\n"
     ]
    }
   ],
   "source": [
    "spark.sql(f\"SELECT * FROM {catalog}.{schema}.{table_name};\").show()"
   ]
  },
  {
   "cell_type": "code",
   "execution_count": null,
   "id": "b8bff5a9-ee32-4e68-ab6c-f2d1e9d763aa",
   "metadata": {},
   "outputs": [],
   "source": []
  },
  {
   "cell_type": "code",
   "execution_count": 25,
   "id": "43414b16-879f-465f-9993-f02e04ecba07",
   "metadata": {},
   "outputs": [],
   "source": [
    "spark.stop()"
   ]
  },
  {
   "cell_type": "code",
   "execution_count": null,
   "id": "6f18ac84-c8fd-45b3-9bd5-2d199f46bb9a",
   "metadata": {},
   "outputs": [],
   "source": []
  }
 ],
 "metadata": {
  "kernelspec": {
   "display_name": "Python 3 (ipykernel)",
   "language": "python",
   "name": "python3"
  },
  "language_info": {
   "codemirror_mode": {
    "name": "ipython",
    "version": 3
   },
   "file_extension": ".py",
   "mimetype": "text/x-python",
   "name": "python",
   "nbconvert_exporter": "python",
   "pygments_lexer": "ipython3",
   "version": "3.12.11"
  }
 },
 "nbformat": 4,
 "nbformat_minor": 5
}
