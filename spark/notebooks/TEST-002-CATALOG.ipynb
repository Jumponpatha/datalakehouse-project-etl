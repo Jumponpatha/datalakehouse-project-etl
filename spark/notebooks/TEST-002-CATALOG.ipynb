{
 "cells": [
  {
   "cell_type": "code",
   "execution_count": 42,
   "id": "877b5fb4-5a05-43ef-a2d1-127989e51b8f",
   "metadata": {},
   "outputs": [],
   "source": [
    "from pyspark.sql.types import StructType, StructField\n",
    "from pyspark.sql.types import DoubleType, IntegerType,StringType, FloatType\n",
    "import pyspark\n",
    "from pyspark.sql import SparkSession\n",
    "import os"
   ]
  },
  {
   "cell_type": "code",
   "execution_count": 6,
   "id": "a94de10e-8fd6-4175-a99c-78990d8680ac",
   "metadata": {},
   "outputs": [],
   "source": [
    "accessKeyId = \"admin\"\n",
    "secretAccessKey = \"password\""
   ]
  },
  {
   "cell_type": "code",
   "execution_count": 7,
   "id": "e6a38bed-0ebd-431d-b05a-ca7473631e81",
   "metadata": {},
   "outputs": [],
   "source": [
    "# spark = (\n",
    "#     SparkSession.builder\n",
    "#     .master('spark://spark-iceberg:7077')\n",
    "#     .appName(\"Spark Nessie Iceberg Demo\")\n",
    "#     .config(\"spark.driver.memory\", \"16g\")\n",
    "#     .config(\"spark.hadoop.fs.s3a.aws.credentials.provider\",\n",
    "#                  \"org.apache.hadoop.fs.s3a.SimpleAWSCredentialsProvider\")\\\n",
    "#     .config('spark.jars.packages','org.apache.iceberg:iceberg-spark-runtime-3.3_2.12:1.5.2,org.projectnessie.nessie-integrations:nessie-spark-extensions-3.3_2.12:0.96.1')\n",
    "#     .config(\"spark.hadoop.fs.s3a.access.key\", accessKeyId)\n",
    "#     .config(\"spark.hadoop.fs.s3a.secret.key\", secretAccessKey)\n",
    "#     .config(\"spark.hadoop.fs.s3a.path.style.access\", True)\n",
    "#     .config(\"spark.hadoop.fs.s3a.impl\", \"org.apache.hadoop.fs.s3a.S3AFileSystem\")\n",
    "#     .config(\"spark.hadoop.fs.s3a.endpoint\", \"http://minio:9000\")\n",
    "#     .config(\"spark.sql.catalog.nessie.uri\", \"http://nessie:19120/api/v1\")\n",
    "#     .config(\"spark.sql.catalog.nessie.ref\", \"main\")\n",
    "#     .config(\"spark.sql.catalog.nessie.authentication.type\", \"NONE\")\n",
    "#     .config(\"spark.sql.catalog.nessie\", \"org.apache.iceberg.spark.SparkCatalog\")\n",
    "#     .config(\"spark.sql.catalog.nessie.catalog-impl\", \"org.apache.iceberg.nessie.NessieCatalog\")\n",
    "#     .config(\"spark.sql.catalog.nessie.warehouse\", \"s3://warehouse/\")\n",
    "#     .config(\"fs.s3a.connection.ssl.enabled\", \"false\")\n",
    "#     .getOrCreate()\n",
    "# )\n"
   ]
  },
  {
   "cell_type": "code",
   "execution_count": 18,
   "id": "8eb7587a-1c8d-41e8-9834-e64ba438a9f8",
   "metadata": {},
   "outputs": [
    {
     "name": "stderr",
     "output_type": "stream",
     "text": [
      "25/10/07 14:38:54 WARN Utils: Service 'SparkUI' could not bind on port 4040. Attempting port 4041.\n"
     ]
    }
   ],
   "source": [
    "spark = (\n",
    "    SparkSession.builder.appName(\"Iceberg-Lakehouse-Nessie\")\n",
    "    .config(\"spark.jars.packages\",\n",
    "            \"org.apache.iceberg:iceberg-spark-runtime-3.5_2.12:1.5.0,\"\n",
    "            \"software.amazon.awssdk:bundle:2.24.8,\"\n",
    "            \"software.amazon.awssdk:url-connection-client:2.24.8\")\n",
    "    .config(\"spark.sql.extensions\", \"org.apache.iceberg.spark.extensions.IcebergSparkSessionExtensions\")\n",
    "    .config(\"spark.sql.catalog.lakehouse_prod_catalog\", \"org.apache.iceberg.spark.SparkCatalog\")\n",
    "    .config(\"spark.sql.catalog.lakehouse_prod_catalog.type\", \"nessie\")  # <--- use nessie, not rest\n",
    "    .config(\"spark.sql.catalog.lakehouse_prod_catalog.uri\", \"http://nessie:19120/api/v2\")  # <--- correct URL\n",
    "    .config(\"spark.sql.catalog.lakehouse_prod_catalog.warehouse\", \"s3://warehouse/wh/\")\n",
    "    .config(\"spark.sql.catalog.lakehouse_prod_catalog.ref\", \"main\")  # <--- default Nessie branch\n",
    "    .getOrCreate()\n",
    ")"
   ]
  },
  {
   "cell_type": "code",
   "execution_count": 11,
   "id": "be3014ed-51f5-4f13-8468-83cf6d9d5f78",
   "metadata": {},
   "outputs": [
    {
     "name": "stdout",
     "output_type": "stream",
     "text": [
      "+---------+\n",
      "|namespace|\n",
      "+---------+\n",
      "+---------+\n",
      "\n"
     ]
    }
   ],
   "source": [
    "spark.sql(\"SHOW DATABASES\").show()"
   ]
  },
  {
   "cell_type": "code",
   "execution_count": 12,
   "id": "8dc070e4-f264-40b5-8cd2-e06ce235d127",
   "metadata": {
    "scrolled": true
   },
   "outputs": [
    {
     "name": "stdout",
     "output_type": "stream",
     "text": [
      "+---------+\n",
      "|namespace|\n",
      "+---------+\n",
      "+---------+\n",
      "\n"
     ]
    }
   ],
   "source": [
    "spark.sql(\"SHOW NAMESPACES\").show()"
   ]
  },
  {
   "cell_type": "code",
   "execution_count": 55,
   "id": "b94096d2-0cf3-4a34-ba70-d570f61cd767",
   "metadata": {},
   "outputs": [
    {
     "data": {
      "text/plain": [
       "DataFrame[]"
      ]
     },
     "execution_count": 55,
     "metadata": {},
     "output_type": "execute_result"
    }
   ],
   "source": [
    "# spark.sql(\"CREATE DATABASE IF NOT EXISTS test_db\")\n",
    "# spark.sql(\"DROP TABLE IF EXISTS test_db.test_table_001\")"
   ]
  },
  {
   "cell_type": "code",
   "execution_count": 19,
   "id": "a599e35d-c810-427e-a893-f35eb24909ba",
   "metadata": {},
   "outputs": [
    {
     "name": "stdout",
     "output_type": "stream",
     "text": [
      "++\n",
      "||\n",
      "++\n",
      "++\n",
      "\n"
     ]
    }
   ],
   "source": [
    "spark.sql(\"CREATE NAMESPACE IF NOT EXISTS lakehouse_prod_catalog.test_db;\").show()"
   ]
  },
  {
   "cell_type": "code",
   "execution_count": 20,
   "id": "9e0cd185-58f4-444f-831d-b4e6a070826b",
   "metadata": {},
   "outputs": [
    {
     "name": "stdout",
     "output_type": "stream",
     "text": [
      "++\n",
      "||\n",
      "++\n",
      "++\n",
      "\n"
     ]
    }
   ],
   "source": [
    "spark.sql(\n",
    "    \"\"\"\n",
    "        CREATE TABLE IF NOT EXISTS lakehouse_prod_catalog.test_db.sample_table (\n",
    "            id BIGINT,\n",
    "            name STRING\n",
    "        ) USING iceberg;\n",
    "    \"\"\"\n",
    ").show()"
   ]
  },
  {
   "cell_type": "code",
   "execution_count": 21,
   "id": "05096f1b-9c29-407b-8c67-3eee5e308463",
   "metadata": {},
   "outputs": [
    {
     "name": "stdout",
     "output_type": "stream",
     "text": [
      "++\n",
      "||\n",
      "++\n",
      "++\n",
      "\n"
     ]
    }
   ],
   "source": [
    "# Insert data into the sample_table\n",
    "spark.sql(\n",
    "    \"\"\"\n",
    "        INSERT INTO lakehouse_prod_catalog.test_db.sample_table VALUES\n",
    "        (1, 'Alice'),\n",
    "        (2, 'Bob');\n",
    "    \"\"\"\n",
    ").show()"
   ]
  },
  {
   "cell_type": "code",
   "execution_count": 22,
   "id": "5769e0ad-b930-4700-b739-8c0fa96b6770",
   "metadata": {},
   "outputs": [
    {
     "name": "stdout",
     "output_type": "stream",
     "text": [
      "+---+-----+\n",
      "| id| name|\n",
      "+---+-----+\n",
      "|  1|Alice|\n",
      "|  2|  Bob|\n",
      "|  1|Alice|\n",
      "|  2|  Bob|\n",
      "+---+-----+\n",
      "\n"
     ]
    }
   ],
   "source": [
    "# Query the data from the table\n",
    "spark.sql(\"SELECT * FROM lakehouse_prod_catalog.test_db.sample_table\").show()"
   ]
  },
  {
   "cell_type": "code",
   "execution_count": 23,
   "id": "0824789c-b980-4470-8c18-ea627a7764ea",
   "metadata": {},
   "outputs": [
    {
     "name": "stdout",
     "output_type": "stream",
     "text": [
      "+--------+--------------------+---------------------+---------------+-------------+----------+------------------+------------+------------+------------+-----------+-----+-------+----------+------------+---------------------+------------+--------------------+-----------+\n",
      "|VendorID|tpep_pickup_datetime|tpep_dropoff_datetime|passenger_count|trip_distance|RatecodeID|store_and_fwd_flag|PULocationID|DOLocationID|payment_type|fare_amount|extra|mta_tax|tip_amount|tolls_amount|improvement_surcharge|total_amount|congestion_surcharge|airport_fee|\n",
      "+--------+--------------------+---------------------+---------------+-------------+----------+------------------+------------+------------+------------+-----------+-----+-------+----------+------------+---------------------+------------+--------------------+-----------+\n",
      "|       1| 2021-04-01 00:00:18|  2021-04-01 00:21:54|            1.0|          8.4|       1.0|                 N|          79|         116|           1|       25.5|  3.0|    0.5|      5.85|         0.0|                  0.3|       35.15|                 2.5|        0.0|\n",
      "|       1| 2021-04-01 00:42:37|  2021-04-01 00:46:23|            1.0|          0.9|       1.0|                 N|          75|         236|           2|        5.0|  3.0|    0.5|       0.0|         0.0|                  0.3|         8.8|                 2.5|        0.0|\n",
      "|       1| 2021-04-01 00:57:56|  2021-04-01 01:08:22|            1.0|          3.4|       1.0|                 N|         236|         168|           2|       11.5|  3.0|    0.5|       0.0|         0.0|                  0.3|        15.3|                 2.5|        0.0|\n",
      "|       1| 2021-04-01 00:01:58|  2021-04-01 00:54:27|            1.0|          0.0|       1.0|                 N|          47|          61|           1|       44.2|  0.0|    0.5|       0.0|         0.0|                  0.3|        45.0|                 0.0|        0.0|\n",
      "|       2| 2021-04-01 00:24:55|  2021-04-01 00:34:33|            1.0|         1.96|       1.0|                 N|         238|         152|           1|        9.0|  0.5|    0.5|      3.09|         0.0|                  0.3|       13.39|                 0.0|        0.0|\n",
      "|       2| 2021-04-01 00:19:16|  2021-04-01 00:21:46|            1.0|         0.77|       1.0|                 N|         142|         238|           1|        4.5|  0.5|    0.5|      1.24|         0.0|                  0.3|        9.54|                 2.5|        0.0|\n",
      "|       2| 2021-04-01 00:25:11|  2021-04-01 00:31:53|            1.0|         3.65|       1.0|                 N|         238|         244|           1|       11.5|  0.5|    0.5|      2.56|         0.0|                  0.3|       15.36|                 0.0|        0.0|\n",
      "|       1| 2021-04-01 00:27:53|  2021-04-01 00:47:03|            0.0|          8.9|       1.0|                 N|         138|         239|           1|       26.5|  3.0|    0.5|      7.25|        6.12|                  0.3|       43.67|                 2.5|        0.0|\n",
      "|       2| 2021-04-01 00:24:24|  2021-04-01 00:37:50|            1.0|         2.98|       1.0|                 N|         151|         244|           2|       12.0|  0.5|    0.5|       0.0|         0.0|                  0.3|        13.3|                 0.0|        0.0|\n",
      "|       1| 2021-04-01 00:19:18|  2021-04-01 00:41:25|            1.0|          8.9|       1.0|                 N|         132|         196|           2|       28.0|  0.5|    0.5|       0.0|         0.0|                  0.3|        29.3|                 0.0|        0.0|\n",
      "+--------+--------------------+---------------------+---------------+-------------+----------+------------------+------------+------------+------------+-----------+-----+-------+----------+------------+---------------------+------------+--------------------+-----------+\n",
      "only showing top 10 rows\n",
      "\n"
     ]
    }
   ],
   "source": [
    "# Extract a Data\n",
    "df = spark.read.parquet(\"/home/iceberg/data/yellow_tripdata_2021-04.parquet\")\n",
    "df.show(10)"
   ]
  },
  {
   "cell_type": "code",
   "execution_count": 24,
   "id": "a5f399e4-7c04-425e-87cc-5e9970d80381",
   "metadata": {},
   "outputs": [
    {
     "name": "stderr",
     "output_type": "stream",
     "text": [
      "                                                                                "
     ]
    }
   ],
   "source": [
    "df.writeTo(\"lakehouse_prod_catalog.test_db.test_table_001\").createOrReplace()"
   ]
  },
  {
   "cell_type": "code",
   "execution_count": 29,
   "id": "fc8b1ba2-fab9-45a1-8f72-01fb5612a077",
   "metadata": {},
   "outputs": [
    {
     "name": "stdout",
     "output_type": "stream",
     "text": [
      "+--------+--------------------+---------------------+---------------+-------------+----------+------------------+------------+------------+------------+-----------+-----+-------+----------+------------+---------------------+------------+--------------------+-----------+\n",
      "|VendorID|tpep_pickup_datetime|tpep_dropoff_datetime|passenger_count|trip_distance|RatecodeID|store_and_fwd_flag|PULocationID|DOLocationID|payment_type|fare_amount|extra|mta_tax|tip_amount|tolls_amount|improvement_surcharge|total_amount|congestion_surcharge|airport_fee|\n",
      "+--------+--------------------+---------------------+---------------+-------------+----------+------------------+------------+------------+------------+-----------+-----+-------+----------+------------+---------------------+------------+--------------------+-----------+\n",
      "|       1| 2021-04-01 00:00:18|  2021-04-01 00:21:54|            1.0|          8.4|       1.0|                 N|          79|         116|           1|       25.5|  3.0|    0.5|      5.85|         0.0|                  0.3|       35.15|                 2.5|        0.0|\n",
      "|       1| 2021-04-01 00:42:37|  2021-04-01 00:46:23|            1.0|          0.9|       1.0|                 N|          75|         236|           2|        5.0|  3.0|    0.5|       0.0|         0.0|                  0.3|         8.8|                 2.5|        0.0|\n",
      "|       1| 2021-04-01 00:57:56|  2021-04-01 01:08:22|            1.0|          3.4|       1.0|                 N|         236|         168|           2|       11.5|  3.0|    0.5|       0.0|         0.0|                  0.3|        15.3|                 2.5|        0.0|\n",
      "|       1| 2021-04-01 00:01:58|  2021-04-01 00:54:27|            1.0|          0.0|       1.0|                 N|          47|          61|           1|       44.2|  0.0|    0.5|       0.0|         0.0|                  0.3|        45.0|                 0.0|        0.0|\n",
      "|       2| 2021-04-01 00:24:55|  2021-04-01 00:34:33|            1.0|         1.96|       1.0|                 N|         238|         152|           1|        9.0|  0.5|    0.5|      3.09|         0.0|                  0.3|       13.39|                 0.0|        0.0|\n",
      "|       2| 2021-04-01 00:19:16|  2021-04-01 00:21:46|            1.0|         0.77|       1.0|                 N|         142|         238|           1|        4.5|  0.5|    0.5|      1.24|         0.0|                  0.3|        9.54|                 2.5|        0.0|\n",
      "|       2| 2021-04-01 00:25:11|  2021-04-01 00:31:53|            1.0|         3.65|       1.0|                 N|         238|         244|           1|       11.5|  0.5|    0.5|      2.56|         0.0|                  0.3|       15.36|                 0.0|        0.0|\n",
      "|       1| 2021-04-01 00:27:53|  2021-04-01 00:47:03|            0.0|          8.9|       1.0|                 N|         138|         239|           1|       26.5|  3.0|    0.5|      7.25|        6.12|                  0.3|       43.67|                 2.5|        0.0|\n",
      "|       2| 2021-04-01 00:24:24|  2021-04-01 00:37:50|            1.0|         2.98|       1.0|                 N|         151|         244|           2|       12.0|  0.5|    0.5|       0.0|         0.0|                  0.3|        13.3|                 0.0|        0.0|\n",
      "|       1| 2021-04-01 00:19:18|  2021-04-01 00:41:25|            1.0|          8.9|       1.0|                 N|         132|         196|           2|       28.0|  0.5|    0.5|       0.0|         0.0|                  0.3|        29.3|                 0.0|        0.0|\n",
      "+--------+--------------------+---------------------+---------------+-------------+----------+------------------+------------+------------+------------+-----------+-----+-------+----------+------------+---------------------+------------+--------------------+-----------+\n",
      "only showing top 10 rows\n",
      "\n"
     ]
    },
    {
     "name": "stderr",
     "output_type": "stream",
     "text": [
      "                                                                                "
     ]
    }
   ],
   "source": [
    "read_df = spark.read.table(\"lakehouse_prod_catalog.test_db.test_table_001\")\n",
    "read_df.show(10)"
   ]
  },
  {
   "cell_type": "code",
   "execution_count": 31,
   "id": "5b2e2051-2a8d-4918-ba96-94aa34ec49e4",
   "metadata": {},
   "outputs": [
    {
     "name": "stderr",
     "output_type": "stream",
     "text": [
      "                                                                                "
     ]
    }
   ],
   "source": [
    "# df.write.mode(\"overwrite\").format(\"parquet\").saveAsTable(\"test_db.test_table_001\")"
   ]
  },
  {
   "cell_type": "code",
   "execution_count": 25,
   "id": "2e08e5a9-5710-4e62-87e6-88db07742ccf",
   "metadata": {},
   "outputs": [],
   "source": [
    "# # Try with Nessie Catalog\n",
    "# # df.write.mode(\"overwrite\").format(\"iceberg\").saveAsTable(\"nessie.test_db.test_table_002\")\n",
    "# df.writeTo(\"test_db.test_table_002\").using(\"iceberg\").createOrReplace()"
   ]
  },
  {
   "cell_type": "code",
   "execution_count": 26,
   "id": "ece88222-56d1-41be-bd8b-5b94c0885926",
   "metadata": {},
   "outputs": [
    {
     "name": "stdout",
     "output_type": "stream",
     "text": [
      "+--------------------+\n",
      "|             catalog|\n",
      "+--------------------+\n",
      "|lakehouse_prod_ca...|\n",
      "|       spark_catalog|\n",
      "+--------------------+\n",
      "\n"
     ]
    }
   ],
   "source": [
    "# Show Catalog\n",
    "spark.sql(\"SHOW CATALOGS\").show()"
   ]
  },
  {
   "cell_type": "code",
   "execution_count": 27,
   "id": "95ca4d9c-a662-438b-b8d3-1f4753a93947",
   "metadata": {},
   "outputs": [],
   "source": [
    "# spark.sql(\"SHOW NAMESPACES IN lakehouse_prod_catalog\").show()"
   ]
  },
  {
   "cell_type": "code",
   "execution_count": 17,
   "id": "6c672a65-9a68-4b9c-a015-64a199fe1d73",
   "metadata": {},
   "outputs": [],
   "source": [
    "spark.stop()"
   ]
  },
  {
   "cell_type": "code",
   "execution_count": null,
   "id": "7c5b6f22-25b1-4dcc-a232-11260729ffc3",
   "metadata": {},
   "outputs": [],
   "source": []
  }
 ],
 "metadata": {
  "kernelspec": {
   "display_name": "Python 3 (ipykernel)",
   "language": "python",
   "name": "python3"
  },
  "language_info": {
   "codemirror_mode": {
    "name": "ipython",
    "version": 3
   },
   "file_extension": ".py",
   "mimetype": "text/x-python",
   "name": "python",
   "nbconvert_exporter": "python",
   "pygments_lexer": "ipython3",
   "version": "3.12.11"
  }
 },
 "nbformat": 4,
 "nbformat_minor": 5
}
