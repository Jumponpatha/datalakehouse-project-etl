{
 "cells": [
  {
   "cell_type": "code",
   "execution_count": 2,
   "id": "877b5fb4-5a05-43ef-a2d1-127989e51b8f",
   "metadata": {},
   "outputs": [],
   "source": [
    "from pyspark.sql.types import StructType, StructField\n",
    "from pyspark.sql.types import DoubleType, IntegerType,StringType, FloatType\n",
    "import pyspark\n",
    "from pyspark.sql import SparkSession\n",
    "import os"
   ]
  },
  {
   "cell_type": "code",
   "execution_count": 3,
   "id": "a94de10e-8fd6-4175-a99c-78990d8680ac",
   "metadata": {},
   "outputs": [],
   "source": [
    "accessKeyId = \"admin\"\n",
    "secretAccessKey = \"password\""
   ]
  },
  {
   "cell_type": "code",
   "execution_count": 4,
   "id": "e6a38bed-0ebd-431d-b05a-ca7473631e81",
   "metadata": {},
   "outputs": [
    {
     "name": "stderr",
     "output_type": "stream",
     "text": [
      "25/10/04 18:33:56 WARN SparkSession: Using an existing Spark session; only runtime SQL configurations will take effect.\n"
     ]
    }
   ],
   "source": [
    "spark = (\n",
    "    SparkSession.builder\n",
    "    .master('spark://spark-iceberg:7077')\n",
    "    .appName(\"Spark Nessie Iceberg Demo\")\n",
    "    .config(\"spark.driver.memory\", \"16g\")\n",
    "    .config(\"spark.hadoop.fs.s3a.aws.credentials.provider\",\n",
    "                 \"org.apache.hadoop.fs.s3a.SimpleAWSCredentialsProvider\")\\\n",
    "    .config('spark.jars.packages','org.apache.iceberg:iceberg-spark-runtime-3.3_2.12:1.5.2,org.projectnessie.nessie-integrations:nessie-spark-extensions-3.3_2.12:0.96.1')\n",
    "    .config(\"spark.hadoop.fs.s3a.access.key\", accessKeyId)\n",
    "    .config(\"spark.hadoop.fs.s3a.secret.key\", secretAccessKey)\n",
    "    .config(\"spark.hadoop.fs.s3a.path.style.access\", True)\n",
    "    .config(\"spark.hadoop.fs.s3a.impl\", \"org.apache.hadoop.fs.s3a.S3AFileSystem\")\n",
    "    .config(\"spark.hadoop.fs.s3a.endpoint\", \"http://minio:9000\")\n",
    "    .config(\"spark.sql.catalog.nessie.uri\", \"http://nessie:19120/api/v1\")\n",
    "    .config(\"spark.sql.catalog.nessie.ref\", \"main\")\n",
    "    .config(\"spark.sql.catalog.nessie.authentication.type\", \"NONE\")\n",
    "    .config(\"spark.sql.catalog.nessie\", \"org.apache.iceberg.spark.SparkCatalog\")\n",
    "    .config(\"spark.sql.catalog.nessie.catalog-impl\", \"org.apache.iceberg.nessie.NessieCatalog\")\n",
    "    .config(\"spark.sql.catalog.nessie.warehouse\", \"s3://warehouse/\")\n",
    "    .config(\"fs.s3a.connection.ssl.enabled\", \"false\")\n",
    "    .getOrCreate()\n",
    ")\n"
   ]
  },
  {
   "cell_type": "code",
   "execution_count": 6,
   "id": "b94096d2-0cf3-4a34-ba70-d570f61cd767",
   "metadata": {},
   "outputs": [
    {
     "data": {
      "text/plain": [
       "DataFrame[]"
      ]
     },
     "execution_count": 6,
     "metadata": {},
     "output_type": "execute_result"
    }
   ],
   "source": [
    "spark.sql(\"CREATE DATABASE IF NOT EXISTS test_db\")\n",
    "spark.sql(\"DROP TABLE IF EXISTS test_db.test_table_001\")"
   ]
  },
  {
   "cell_type": "code",
   "execution_count": 5,
   "id": "0824789c-b980-4470-8c18-ea627a7764ea",
   "metadata": {},
   "outputs": [
    {
     "name": "stderr",
     "output_type": "stream",
     "text": [
      "                                                                                "
     ]
    },
    {
     "name": "stdout",
     "output_type": "stream",
     "text": [
      "+--------+--------------------+---------------------+---------------+-------------+----------+------------------+------------+------------+------------+-----------+-----+-------+----------+------------+---------------------+------------+--------------------+-----------+\n",
      "|VendorID|tpep_pickup_datetime|tpep_dropoff_datetime|passenger_count|trip_distance|RatecodeID|store_and_fwd_flag|PULocationID|DOLocationID|payment_type|fare_amount|extra|mta_tax|tip_amount|tolls_amount|improvement_surcharge|total_amount|congestion_surcharge|airport_fee|\n",
      "+--------+--------------------+---------------------+---------------+-------------+----------+------------------+------------+------------+------------+-----------+-----+-------+----------+------------+---------------------+------------+--------------------+-----------+\n",
      "|       1| 2021-04-01 00:00:18|  2021-04-01 00:21:54|            1.0|          8.4|       1.0|                 N|          79|         116|           1|       25.5|  3.0|    0.5|      5.85|         0.0|                  0.3|       35.15|                 2.5|        0.0|\n",
      "|       1| 2021-04-01 00:42:37|  2021-04-01 00:46:23|            1.0|          0.9|       1.0|                 N|          75|         236|           2|        5.0|  3.0|    0.5|       0.0|         0.0|                  0.3|         8.8|                 2.5|        0.0|\n",
      "|       1| 2021-04-01 00:57:56|  2021-04-01 01:08:22|            1.0|          3.4|       1.0|                 N|         236|         168|           2|       11.5|  3.0|    0.5|       0.0|         0.0|                  0.3|        15.3|                 2.5|        0.0|\n",
      "|       1| 2021-04-01 00:01:58|  2021-04-01 00:54:27|            1.0|          0.0|       1.0|                 N|          47|          61|           1|       44.2|  0.0|    0.5|       0.0|         0.0|                  0.3|        45.0|                 0.0|        0.0|\n",
      "|       2| 2021-04-01 00:24:55|  2021-04-01 00:34:33|            1.0|         1.96|       1.0|                 N|         238|         152|           1|        9.0|  0.5|    0.5|      3.09|         0.0|                  0.3|       13.39|                 0.0|        0.0|\n",
      "|       2| 2021-04-01 00:19:16|  2021-04-01 00:21:46|            1.0|         0.77|       1.0|                 N|         142|         238|           1|        4.5|  0.5|    0.5|      1.24|         0.0|                  0.3|        9.54|                 2.5|        0.0|\n",
      "|       2| 2021-04-01 00:25:11|  2021-04-01 00:31:53|            1.0|         3.65|       1.0|                 N|         238|         244|           1|       11.5|  0.5|    0.5|      2.56|         0.0|                  0.3|       15.36|                 0.0|        0.0|\n",
      "|       1| 2021-04-01 00:27:53|  2021-04-01 00:47:03|            0.0|          8.9|       1.0|                 N|         138|         239|           1|       26.5|  3.0|    0.5|      7.25|        6.12|                  0.3|       43.67|                 2.5|        0.0|\n",
      "|       2| 2021-04-01 00:24:24|  2021-04-01 00:37:50|            1.0|         2.98|       1.0|                 N|         151|         244|           2|       12.0|  0.5|    0.5|       0.0|         0.0|                  0.3|        13.3|                 0.0|        0.0|\n",
      "|       1| 2021-04-01 00:19:18|  2021-04-01 00:41:25|            1.0|          8.9|       1.0|                 N|         132|         196|           2|       28.0|  0.5|    0.5|       0.0|         0.0|                  0.3|        29.3|                 0.0|        0.0|\n",
      "|       2| 2021-04-01 00:04:25|  2021-04-01 00:29:22|            1.0|         7.48|       1.0|                 N|         140|          36|           1|       23.5|  0.5|    0.5|       4.0|         0.0|                  0.3|        31.3|                 2.5|        0.0|\n",
      "|       2| 2021-04-01 00:03:07|  2021-04-01 00:18:02|            5.0|         3.39|       1.0|                 N|         231|          48|           2|       13.5|  0.5|    0.5|       0.0|         0.0|                  0.3|        17.3|                 2.5|        0.0|\n",
      "|       2| 2021-04-01 00:35:44|  2021-04-01 00:51:06|            5.0|         3.51|       1.0|                 N|          48|          41|           1|       14.0|  0.5|    0.5|       0.0|         0.0|                  0.3|        17.8|                 2.5|        0.0|\n",
      "|       2| 2021-04-01 00:52:32|  2021-04-01 01:04:41|            5.0|         3.42|       1.0|                 N|          41|         120|           1|       12.5|  0.5|    0.5|      2.76|         0.0|                  0.3|       16.56|                 0.0|        0.0|\n",
      "|       2| 2021-04-01 00:28:05|  2021-04-01 00:47:59|            3.0|        12.14|       1.0|                 N|         132|         160|           1|       33.5|  0.5|    0.5|     10.44|         0.0|                  0.3|       45.24|                 0.0|        0.0|\n",
      "|       1| 2021-04-01 00:39:01|  2021-04-01 00:57:39|            1.0|         11.8|       1.0|                 N|         132|         196|           2|       32.0|  0.5|    0.5|       0.0|         0.0|                  0.3|        33.3|                 0.0|        0.0|\n",
      "|       2| 2021-04-01 00:15:10|  2021-04-01 00:22:46|            1.0|         1.44|       1.0|                 N|         152|         244|           1|        7.5|  0.5|    0.5|       0.0|         0.0|                  0.3|         8.8|                 0.0|        0.0|\n",
      "|       2| 2021-04-01 00:30:46|  2021-04-01 00:39:52|            1.0|         1.65|       1.0|                 N|         161|         143|           1|        8.5|  0.5|    0.5|      3.08|         0.0|                  0.3|       15.38|                 2.5|        0.0|\n",
      "|       2| 2021-04-01 00:48:18|  2021-04-01 01:06:50|            2.0|         8.16|       1.0|                 N|         107|         106|           1|       25.0|  0.5|    0.5|      5.76|         0.0|                  0.3|       34.56|                 2.5|        0.0|\n",
      "|       1| 2021-04-01 00:19:42|  2021-04-01 00:33:25|            1.0|          7.4|       1.0|                 N|         138|          41|           1|       21.5|  0.5|    0.5|       6.0|        6.12|                  0.3|       34.92|                 0.0|        0.0|\n",
      "+--------+--------------------+---------------------+---------------+-------------+----------+------------------+------------+------------+------------+-----------+-----+-------+----------+------------+---------------------+------------+--------------------+-----------+\n",
      "only showing top 20 rows\n",
      "\n"
     ]
    }
   ],
   "source": [
    "# Extract a Data\n",
    "df = spark.read.parquet(\"/home/iceberg/data/yellow_tripdata_2021-04.parquet\")\n",
    "df.show()"
   ]
  },
  {
   "cell_type": "code",
   "execution_count": 7,
   "id": "5b2e2051-2a8d-4918-ba96-94aa34ec49e4",
   "metadata": {},
   "outputs": [
    {
     "name": "stderr",
     "output_type": "stream",
     "text": [
      "                                                                                "
     ]
    }
   ],
   "source": [
    "df.write.mode(\"overwrite\").format(\"parquet\").saveAsTable(\"test_db.test_table_001\")"
   ]
  },
  {
   "cell_type": "code",
   "execution_count": 9,
   "id": "b733a3e3-5953-4b79-8cea-c6d07157e798",
   "metadata": {},
   "outputs": [
    {
     "name": "stdout",
     "output_type": "stream",
     "text": [
      "+---------+---------+-----------+\n",
      "|namespace|tableName|isTemporary|\n",
      "+---------+---------+-----------+\n",
      "+---------+---------+-----------+\n",
      "\n"
     ]
    }
   ],
   "source": [
    "# Test Nessie\n",
    "# List tables\n",
    "spark.sql(\"SHOW TABLES IN nessie.default\").show()"
   ]
  },
  {
   "cell_type": "code",
   "execution_count": null,
   "id": "6c672a65-9a68-4b9c-a015-64a199fe1d73",
   "metadata": {},
   "outputs": [],
   "source": [
    "spark.stop()"
   ]
  }
 ],
 "metadata": {
  "kernelspec": {
   "display_name": "Python 3 (ipykernel)",
   "language": "python",
   "name": "python3"
  },
  "language_info": {
   "codemirror_mode": {
    "name": "ipython",
    "version": 3
   },
   "file_extension": ".py",
   "mimetype": "text/x-python",
   "name": "python",
   "nbconvert_exporter": "python",
   "pygments_lexer": "ipython3",
   "version": "3.10.18"
  }
 },
 "nbformat": 4,
 "nbformat_minor": 5
}
